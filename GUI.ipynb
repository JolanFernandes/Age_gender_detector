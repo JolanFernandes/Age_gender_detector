{
 "cells": [
  {
   "cell_type": "code",
   "execution_count": 16,
   "id": "f1ecca10",
   "metadata": {},
   "outputs": [],
   "source": [
    "import tkinter as tk"
   ]
  },
  {
   "cell_type": "code",
   "execution_count": 17,
   "id": "29598d0c",
   "metadata": {},
   "outputs": [],
   "source": [
    "from tkinter import filedialog,Label,Button\n",
    "from PIL import Image,ImageTk\n",
    "import numpy as np\n",
    "\n",
    "#Loading the module\n",
    "from keras.models import load_model\n",
    "model=load_model('Age_Sex_Detection.h5')\n",
    "\n",
    "#Initializing the GUI\n",
    "top=tk.Tk()\n",
    "top.geometry('800x600')\n",
    "top.title(\"AGE & GENDER DETECTOR\")\n",
    "top.configure(background='#CDCDCD')\n",
    "sign_image=Label(top)\n",
    "#INITIALIZING the labels(1 for age and other for sex)\n",
    "label1=Label(top,background='#CDCDCD',font=('arial',15,'bold'))\n",
    "label2=Label(top,background='#CDCDCD',font=('arial',15,'bold'))\n",
    "#defining detect function which detects the age and gender of the person in image\n",
    "def Detect(file_path):\n",
    "    image=Image.open(file_path)\n",
    "    image=image.resize((48,48))\n",
    "    image=np.expand_dims(image,axis=0)\n",
    "    image=np.array(image)\n",
    "    image=np.delete(image,0,1)\n",
    "    image=np.resize(image,(48,48,3))\n",
    "    sex_f=[\"Male\",\"Female\"]\n",
    "    image=np.array([image])/255\n",
    "    pred=model.predict(image)\n",
    "    age=int(np.round(pred[1][0]))\n",
    "    sex=int(np.round(pred[0][0]))\n",
    "    label1.configure(foreground=\"#011638\",text=\"predicted age is :\"+str(age))\n",
    "    label2.configure(foreground='#011638',text=\"predicted gender is :\"+sex_f[sex])\n",
    "#Showing detect button\n",
    "def show_Detect_button(file_path):\n",
    "    Detect_b=Button(top,text=\"Detect image\",command=lambda: Detect(file_path),padx=10,pady=5)\n",
    "    Detect_b.configure(background=\"#364156\",foreground='white',font=('arial',10,'bold'))\n",
    "    Detect_b.place(relx=0.79,rely=0.46)\n",
    "#upload image function\n",
    "def upload_image():\n",
    "    try:\n",
    "        file=filedialog.askopenfilename()\n",
    "        uploaded=Image.open(file)\n",
    "        uploaded.thumbnail(((top.winfo_width()/2.25),(top.winfo_height()/2.25)))\n",
    "        im=ImageTk.PhotoImage(uploaded)\n",
    "\n",
    "        sign_image.configure(image=im)\n",
    "        sign_image.image=im\n",
    "        label1.configure(text='')\n",
    "        label2.configure(text='')\n",
    "        show_Detect_button(file)  # Call show_Detect_button here\n",
    "    except:\n",
    "        pass\n",
    "upload=Button(top,text='upload an image',command=upload_image,padx=10,pady=5)\n",
    "upload.configure(background='#364156',foreground='white',font=('arial',10,'bold'))\n",
    "upload.pack(side='bottom',pady=50)\n",
    "sign_image=Label(top)\n",
    "sign_image.pack(side='bottom',expand=True)\n",
    "          "
   ]
  },
  {
   "cell_type": "code",
   "execution_count": null,
   "id": "f0817b07",
   "metadata": {},
   "outputs": [
    {
     "name": "stdout",
     "output_type": "stream",
     "text": [
      "1/1 [==============================] - 0s 453ms/step\n",
      "1/1 [==============================] - 0s 31ms/step\n",
      "1/1 [==============================] - 0s 31ms/step\n",
      "1/1 [==============================] - 0s 31ms/step\n"
     ]
    }
   ],
   "source": [
    "label1.pack(side='bottom',expand=True)\n",
    "label2.pack(side='bottom',expand=True)\n",
    "heading=Label(top,text=\"Age and Gender Detector\",pady=20,font=('arial',20,'bold'))\n",
    "heading.configure(background=\"#CDCDCD\",foreground='#364156')\n",
    "heading.pack()\n",
    "top.mainloop()"
   ]
  },
  {
   "cell_type": "code",
   "execution_count": null,
   "id": "c76d9fa5",
   "metadata": {},
   "outputs": [],
   "source": []
  },
  {
   "cell_type": "code",
   "execution_count": null,
   "id": "5c7716a7",
   "metadata": {},
   "outputs": [],
   "source": []
  }
 ],
 "metadata": {
  "kernelspec": {
   "display_name": "Python 3 (ipykernel)",
   "language": "python",
   "name": "python3"
  },
  "language_info": {
   "codemirror_mode": {
    "name": "ipython",
    "version": 3
   },
   "file_extension": ".py",
   "mimetype": "text/x-python",
   "name": "python",
   "nbconvert_exporter": "python",
   "pygments_lexer": "ipython3",
   "version": "3.11.5"
  }
 },
 "nbformat": 4,
 "nbformat_minor": 5
}
